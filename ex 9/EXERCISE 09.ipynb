{
 "cells": [
  {
   "cell_type": "markdown",
   "id": "f108dcba",
   "metadata": {},
   "source": [
    "#### EX 09 : Using  collocations, implemention of bigram and trigram from the corpus data"
   ]
  },
  {
   "cell_type": "markdown",
   "id": "d2b02c6f",
   "metadata": {},
   "source": [
    "##### LIBRARIES"
   ]
  },
  {
   "cell_type": "code",
   "execution_count": 1,
   "id": "9df3b3a7",
   "metadata": {},
   "outputs": [],
   "source": [
    "import nltk\n",
    "from nltk.collocations import BigramAssocMeasures, BigramCollocationFinder, TrigramAssocMeasures, TrigramCollocationFinder\n",
    "from nltk.corpus import reuters"
   ]
  },
  {
   "cell_type": "markdown",
   "id": "601a429e",
   "metadata": {},
   "source": [
    "#### CORPUS DATA"
   ]
  },
  {
   "cell_type": "code",
   "execution_count": 2,
   "id": "3845487d",
   "metadata": {},
   "outputs": [],
   "source": [
    "corpus = \"In natural language processing, a corpus is a large and structured set of texts. Corpora are used to train models and algorithms that can then be applied to new text. The most common type of corpus is a document-term matrix, where each document is a row and each column represents a term. In this example, we will use a corpus of text data to train a bigram and trigram model.\""
   ]
  },
  {
   "cell_type": "markdown",
   "id": "988841de",
   "metadata": {},
   "source": [
    "##### TOKENIZATION"
   ]
  },
  {
   "cell_type": "code",
   "execution_count": 3,
   "id": "39f5e669",
   "metadata": {},
   "outputs": [],
   "source": [
    "# Tokenize the text from the corpus\n",
    "tokens = nltk.word_tokenize(corpus)"
   ]
  },
  {
   "cell_type": "markdown",
   "id": "106ca3d7",
   "metadata": {},
   "source": [
    "##### BI GRAM COLLOCATION"
   ]
  },
  {
   "cell_type": "code",
   "execution_count": 4,
   "id": "37bb103a",
   "metadata": {},
   "outputs": [],
   "source": [
    "# Create a bigram collocation finder\n",
    "bigram_finder = BigramCollocationFinder.from_words(tokens)\n",
    "\n",
    "# Use a scoring function to find the most common bigrams\n",
    "bigrams = bigram_finder.nbest(BigramAssocMeasures.likelihood_ratio, 20)\n",
    "\n",
    "bigram_finder.score_ngram(bigrams.)"
   ]
  },
  {
   "cell_type": "code",
   "execution_count": 5,
   "id": "104a0dfa",
   "metadata": {},
   "outputs": [
    {
     "data": {
      "text/plain": [
       "[('is', 'a'),\n",
       " ('to', 'train'),\n",
       " ('corpus', 'is'),\n",
       " ('Corpora', 'are'),\n",
       " ('The', 'most'),\n",
       " ('algorithms', 'that'),\n",
       " ('are', 'used'),\n",
       " ('be', 'applied'),\n",
       " ('can', 'then'),\n",
       " ('column', 'represents'),\n",
       " ('common', 'type'),\n",
       " ('document-term', 'matrix'),\n",
       " ('language', 'processing'),\n",
       " ('most', 'common'),\n",
       " ('natural', 'language'),\n",
       " ('structured', 'set'),\n",
       " ('that', 'can'),\n",
       " ('then', 'be'),\n",
       " ('this', 'example'),\n",
       " ('trigram', 'model')]"
      ]
     },
     "execution_count": 5,
     "metadata": {},
     "output_type": "execute_result"
    }
   ],
   "source": [
    "bigrams"
   ]
  },
  {
   "cell_type": "markdown",
   "id": "6c323a37",
   "metadata": {},
   "source": [
    "##### TRI GRAM COLLOCATION"
   ]
  },
  {
   "cell_type": "code",
   "execution_count": 6,
   "id": "8ed808db",
   "metadata": {},
   "outputs": [],
   "source": [
    "# Create a trigram collocation finder\n",
    "trigram_finder = TrigramCollocationFinder.from_words(tokens)\n",
    "\n",
    "# Use a scoring function to find the most common trigrams\n",
    "trigrams = trigram_finder.nbest(TrigramAssocMeasures.likelihood_ratio, 20)"
   ]
  },
  {
   "cell_type": "code",
   "execution_count": 7,
   "id": "d43cdcb7",
   "metadata": {},
   "outputs": [
    {
     "data": {
      "text/plain": [
       "[('corpus', 'is', 'a'),\n",
       " ('document', 'is', 'a'),\n",
       " ('is', 'a', 'document-term'),\n",
       " ('is', 'a', 'large'),\n",
       " ('is', 'a', 'row'),\n",
       " ('data', 'to', 'train'),\n",
       " ('to', 'train', 'models'),\n",
       " ('used', 'to', 'train'),\n",
       " ('Corpora', 'are', 'used'),\n",
       " ('The', 'most', 'common'),\n",
       " ('algorithms', 'that', 'can'),\n",
       " ('can', 'then', 'be'),\n",
       " ('most', 'common', 'type'),\n",
       " ('natural', 'language', 'processing'),\n",
       " ('that', 'can', 'then'),\n",
       " ('then', 'be', 'applied'),\n",
       " ('we', 'will', 'use'),\n",
       " ('a', 'corpus', 'is'),\n",
       " ('In', 'natural', 'language'),\n",
       " ('In', 'this', 'example')]"
      ]
     },
     "execution_count": 7,
     "metadata": {},
     "output_type": "execute_result"
    }
   ],
   "source": [
    "trigrams"
   ]
  },
  {
   "cell_type": "code",
   "execution_count": null,
   "id": "ed74faa3",
   "metadata": {},
   "outputs": [],
   "source": []
  }
 ],
 "metadata": {
  "kernelspec": {
   "display_name": "Python 3 (ipykernel)",
   "language": "python",
   "name": "python3"
  },
  "language_info": {
   "codemirror_mode": {
    "name": "ipython",
    "version": 3
   },
   "file_extension": ".py",
   "mimetype": "text/x-python",
   "name": "python",
   "nbconvert_exporter": "python",
   "pygments_lexer": "ipython3",
   "version": "3.9.11"
  }
 },
 "nbformat": 4,
 "nbformat_minor": 5
}
