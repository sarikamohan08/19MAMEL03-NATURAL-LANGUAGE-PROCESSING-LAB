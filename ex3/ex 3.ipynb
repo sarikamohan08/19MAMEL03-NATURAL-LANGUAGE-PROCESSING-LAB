{
 "cells": [
  {
   "cell_type": "code",
   "execution_count": 1,
   "id": "4160d8b4",
   "metadata": {},
   "outputs": [],
   "source": [
    "import os\n",
    "import pandas as pd"
   ]
  },
  {
   "cell_type": "code",
   "execution_count": 2,
   "id": "30adf795",
   "metadata": {},
   "outputs": [],
   "source": [
    "import nltk"
   ]
  },
  {
   "cell_type": "code",
   "execution_count": 12,
   "id": "72643c6b",
   "metadata": {},
   "outputs": [
    {
     "name": "stdout",
     "output_type": "stream",
     "text": [
      "<class 'str'>\n",
      "['with', 'with', 'rath', 'oth']\n"
     ]
    }
   ],
   "source": [
    "import re\n",
    "\n",
    "with open('data.txt', 'r', encoding='utf-8') as f:\n",
    "    my_str = f.read()\n",
    "    print(type(my_str))  \n",
    "\n",
    "    m = re.findall(r'\\w+th', my_str)\n",
    "    print(m) \n"
   ]
  },
  {
   "cell_type": "code",
   "execution_count": 13,
   "id": "ec5f722b",
   "metadata": {},
   "outputs": [
    {
     "data": {
      "text/plain": [
       "\"NATURAL LANGUAGE PROCESSING LAB\\nGenerally, Analysing the business match and win likelihood of prospects is time\\nconsuming and prone to be less efficient with just relying on human analysis. Artificial \\nIntelligence can help with Natural Language Processing. The project titled “Sales Engagement \\nand Enrichment using Natural Language Processing” aims at providing a solution to the problem \\nstated above by automating the process of engaging the customers' mails using the Natural \\nLanguage Processing.\\nThe objective is to build a Product called “OxoBrain”, designed to make the sales \\nrepresentative focus more on sales rather than other distracting manual tasks. Automating the \\nmanual tasks of a sales representative saves a lot of time and allows them to focus more on sales. \\nAs this is an internal product, the users of this product are the employees of the organization \\nitself.\\n\""
      ]
     },
     "execution_count": 13,
     "metadata": {},
     "output_type": "execute_result"
    }
   ],
   "source": [
    "my_str "
   ]
  },
  {
   "cell_type": "code",
   "execution_count": 5,
   "id": "794055fb",
   "metadata": {},
   "outputs": [
    {
     "name": "stderr",
     "output_type": "stream",
     "text": [
      "[nltk_data] Downloading package punkt to\n",
      "[nltk_data]     C:\\Users\\Lenono\\AppData\\Roaming\\nltk_data...\n",
      "[nltk_data]   Package punkt is already up-to-date!\n"
     ]
    },
    {
     "data": {
      "text/plain": [
       "True"
      ]
     },
     "execution_count": 5,
     "metadata": {},
     "output_type": "execute_result"
    }
   ],
   "source": [
    "from nltk.tokenize import word_tokenize\n",
    "nltk.download('punkt')"
   ]
  },
  {
   "cell_type": "code",
   "execution_count": 14,
   "id": "240340b2",
   "metadata": {},
   "outputs": [
    {
     "data": {
      "text/plain": [
       "['NATURAL',\n",
       " 'LANGUAGE',\n",
       " 'PROCESSING',\n",
       " 'LAB',\n",
       " 'Generally',\n",
       " ',',\n",
       " 'Analysing',\n",
       " 'the',\n",
       " 'business',\n",
       " 'match',\n",
       " 'and',\n",
       " 'win',\n",
       " 'likelihood',\n",
       " 'of',\n",
       " 'prospects',\n",
       " 'is',\n",
       " 'time',\n",
       " 'consuming',\n",
       " 'and',\n",
       " 'prone',\n",
       " 'to',\n",
       " 'be',\n",
       " 'less',\n",
       " 'efficient',\n",
       " 'with',\n",
       " 'just',\n",
       " 'relying',\n",
       " 'on',\n",
       " 'human',\n",
       " 'analysis',\n",
       " '.',\n",
       " 'Artificial',\n",
       " 'Intelligence',\n",
       " 'can',\n",
       " 'help',\n",
       " 'with',\n",
       " 'Natural',\n",
       " 'Language',\n",
       " 'Processing',\n",
       " '.',\n",
       " 'The',\n",
       " 'project',\n",
       " 'titled',\n",
       " '“',\n",
       " 'Sales',\n",
       " 'Engagement',\n",
       " 'and',\n",
       " 'Enrichment',\n",
       " 'using',\n",
       " 'Natural',\n",
       " 'Language',\n",
       " 'Processing',\n",
       " '”',\n",
       " 'aims',\n",
       " 'at',\n",
       " 'providing',\n",
       " 'a',\n",
       " 'solution',\n",
       " 'to',\n",
       " 'the',\n",
       " 'problem',\n",
       " 'stated',\n",
       " 'above',\n",
       " 'by',\n",
       " 'automating',\n",
       " 'the',\n",
       " 'process',\n",
       " 'of',\n",
       " 'engaging',\n",
       " 'the',\n",
       " 'customers',\n",
       " \"'\",\n",
       " 'mails',\n",
       " 'using',\n",
       " 'the',\n",
       " 'Natural',\n",
       " 'Language',\n",
       " 'Processing',\n",
       " '.',\n",
       " 'The',\n",
       " 'objective',\n",
       " 'is',\n",
       " 'to',\n",
       " 'build',\n",
       " 'a',\n",
       " 'Product',\n",
       " 'called',\n",
       " '“',\n",
       " 'OxoBrain',\n",
       " '”',\n",
       " ',',\n",
       " 'designed',\n",
       " 'to',\n",
       " 'make',\n",
       " 'the',\n",
       " 'sales',\n",
       " 'representative',\n",
       " 'focus',\n",
       " 'more',\n",
       " 'on',\n",
       " 'sales',\n",
       " 'rather',\n",
       " 'than',\n",
       " 'other',\n",
       " 'distracting',\n",
       " 'manual',\n",
       " 'tasks',\n",
       " '.',\n",
       " 'Automating',\n",
       " 'the',\n",
       " 'manual',\n",
       " 'tasks',\n",
       " 'of',\n",
       " 'a',\n",
       " 'sales',\n",
       " 'representative',\n",
       " 'saves',\n",
       " 'a',\n",
       " 'lot',\n",
       " 'of',\n",
       " 'time',\n",
       " 'and',\n",
       " 'allows',\n",
       " 'them',\n",
       " 'to',\n",
       " 'focus',\n",
       " 'more',\n",
       " 'on',\n",
       " 'sales',\n",
       " '.',\n",
       " 'As',\n",
       " 'this',\n",
       " 'is',\n",
       " 'an',\n",
       " 'internal',\n",
       " 'product',\n",
       " ',',\n",
       " 'the',\n",
       " 'users',\n",
       " 'of',\n",
       " 'this',\n",
       " 'product',\n",
       " 'are',\n",
       " 'the',\n",
       " 'employees',\n",
       " 'of',\n",
       " 'the',\n",
       " 'organization',\n",
       " 'itself',\n",
       " '.']"
      ]
     },
     "execution_count": 14,
     "metadata": {},
     "output_type": "execute_result"
    }
   ],
   "source": [
    "tokens=nltk.word_tokenize(my_str)\n",
    "tokens"
   ]
  },
  {
   "cell_type": "code",
   "execution_count": 15,
   "id": "1fbe52cc",
   "metadata": {},
   "outputs": [
    {
     "name": "stdout",
     "output_type": "stream",
     "text": [
      "natur\n",
      "languag\n",
      "process\n",
      "lab\n",
      "gener\n",
      ",\n",
      "analys\n",
      "the\n",
      "busi\n",
      "match\n",
      "and\n",
      "win\n",
      "likelihood\n",
      "of\n",
      "prospect\n",
      "is\n",
      "time\n",
      "consum\n",
      "and\n",
      "prone\n",
      "to\n",
      "be\n",
      "less\n",
      "effici\n",
      "with\n",
      "just\n",
      "reli\n",
      "on\n",
      "human\n",
      "analysi\n",
      ".\n",
      "artifici\n",
      "intellig\n",
      "can\n",
      "help\n",
      "with\n",
      "natur\n",
      "languag\n",
      "process\n",
      ".\n",
      "the\n",
      "project\n",
      "titl\n",
      "“\n",
      "sale\n",
      "engag\n",
      "and\n",
      "enrich\n",
      "use\n",
      "natur\n",
      "languag\n",
      "process\n",
      "”\n",
      "aim\n",
      "at\n",
      "provid\n",
      "a\n",
      "solut\n",
      "to\n",
      "the\n",
      "problem\n",
      "state\n",
      "abov\n",
      "by\n",
      "autom\n",
      "the\n",
      "process\n",
      "of\n",
      "engag\n",
      "the\n",
      "custom\n",
      "'\n",
      "mail\n",
      "use\n",
      "the\n",
      "natur\n",
      "languag\n",
      "process\n",
      ".\n",
      "the\n",
      "object\n",
      "is\n",
      "to\n",
      "build\n",
      "a\n",
      "product\n",
      "call\n",
      "“\n",
      "oxobrain\n",
      "”\n",
      ",\n",
      "design\n",
      "to\n",
      "make\n",
      "the\n",
      "sale\n",
      "repres\n",
      "focu\n",
      "more\n",
      "on\n",
      "sale\n",
      "rather\n",
      "than\n",
      "other\n",
      "distract\n",
      "manual\n",
      "task\n",
      ".\n",
      "autom\n",
      "the\n",
      "manual\n",
      "task\n",
      "of\n",
      "a\n",
      "sale\n",
      "repres\n",
      "save\n",
      "a\n",
      "lot\n",
      "of\n",
      "time\n",
      "and\n",
      "allow\n",
      "them\n",
      "to\n",
      "focu\n",
      "more\n",
      "on\n",
      "sale\n",
      ".\n",
      "as\n",
      "thi\n",
      "is\n",
      "an\n",
      "intern\n",
      "product\n",
      ",\n",
      "the\n",
      "user\n",
      "of\n",
      "thi\n",
      "product\n",
      "are\n",
      "the\n",
      "employe\n",
      "of\n",
      "the\n",
      "organ\n",
      "itself\n",
      ".\n"
     ]
    }
   ],
   "source": [
    "from nltk.stem import PorterStemmer\n",
    "e_words= tokens\n",
    "ps =PorterStemmer()\n",
    "for w in e_words:\n",
    "    rootWord=ps.stem(w)\n",
    "    print(rootWord)"
   ]
  },
  {
   "cell_type": "code",
   "execution_count": 18,
   "id": "22bb61cc",
   "metadata": {},
   "outputs": [
    {
     "name": "stdout",
     "output_type": "stream",
     "text": [
      "Lemma for for is for\n",
      "Lemma for sentence is sentence\n",
      "Lemma for containing is containing\n",
      "Lemma for words is word\n",
      "Lemma for like is like\n",
      "Lemma for visit is visit\n",
      "Lemma for , is ,\n",
      "Lemma for visitor is visitor\n",
      "Lemma for , is ,\n",
      "Lemma for visiting is visiting\n",
      "Lemma for , is ,\n",
      "Lemma for visited is visited\n"
     ]
    }
   ],
   "source": [
    "import nltk\n",
    "from nltk.stem import WordNetLemmatizer\n",
    "wordnet_lemmatizer = WordNetLemmatizer()\n",
    "text = \"for sentence containing words like visit,visitor,visiting,visited \"\n",
    "tokenization = nltk.word_tokenize(text)\n",
    "for w in tokenization:\n",
    "    print(\"Lemma for {} is {}\".format(w, wordnet_lemmatizer.lemmatize(w)))"
   ]
  },
  {
   "cell_type": "code",
   "execution_count": 19,
   "id": "035b347b",
   "metadata": {},
   "outputs": [],
   "source": [
    "from nltk.corpus import stopwords"
   ]
  },
  {
   "cell_type": "code",
   "execution_count": 20,
   "id": "a5d869b9",
   "metadata": {},
   "outputs": [
    {
     "name": "stdout",
     "output_type": "stream",
     "text": [
      "Text without stop words: NATURAL LANGUAGE PROCESSING LAB Generally , Analysing business match win likelihood prospects time consuming prone less efficient relying human analysis . Artificial Intelligence help Natural Language Processing . The project titled “ Sales Engagement Enrichment using Natural Language Processing ” aims providing solution problem stated automating process engaging customers ' mails using Natural Language Processing . The objective build Product called “ OxoBrain ” , designed make sales representative focus sales rather distracting manual tasks . Automating manual tasks sales representative saves lot time allows focus sales . As internal product , users product employees organization .\n"
     ]
    }
   ],
   "source": [
    "english_stopwords = stopwords.words('english')\n",
    "tokens_wo_stopwords = [word for word in tokens if word not in english_stopwords]\n",
    "print(\"Text without stop words:\", \" \".join(tokens_wo_stopwords))"
   ]
  },
  {
   "cell_type": "code",
   "execution_count": null,
   "id": "421acf1b",
   "metadata": {},
   "outputs": [],
   "source": []
  }
 ],
 "metadata": {
  "kernelspec": {
   "display_name": "Python 3 (ipykernel)",
   "language": "python",
   "name": "python3"
  },
  "language_info": {
   "codemirror_mode": {
    "name": "ipython",
    "version": 3
   },
   "file_extension": ".py",
   "mimetype": "text/x-python",
   "name": "python",
   "nbconvert_exporter": "python",
   "pygments_lexer": "ipython3",
   "version": "3.7.13 (default, Mar 28 2022, 08:03:21) [MSC v.1916 64 bit (AMD64)]"
  },
  "vscode": {
   "interpreter": {
    "hash": "165e6e7c3dc9aeee2ee0adde5ae230edeafeb8fb52c933da2532a6f0899cd44a"
   }
  }
 },
 "nbformat": 4,
 "nbformat_minor": 5
}
