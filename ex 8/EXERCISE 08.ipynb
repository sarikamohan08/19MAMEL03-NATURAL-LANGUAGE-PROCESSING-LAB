{
 "cells": [
  {
   "cell_type": "markdown",
   "id": "dfd0f49d",
   "metadata": {},
   "source": [
    "\n",
    "\n",
    "\n",
    "8.Implement an ELIZA-like program, using substitutions such as those described below sample. You might want to choose a different domain, although keep in mind that you would need a domain in which your program can legitimately engage in a lot of simple repetition.\n"
   ]
  },
  {
   "cell_type": "code",
   "execution_count": 2,
   "id": "a5a2d8a0",
   "metadata": {},
   "outputs": [
    {
     "name": "stdout",
     "output_type": "stream",
     "text": [
      "ELIZA: Hello, I am a computer program designed to help you with your problems. How can I help you today?\n",
      "You: I'm sad\n",
      "ELIZA: I am sorry to hear you are sad\n",
      "You: I am sad\n",
      "ELIZA: Why do you think you are sad\n",
      "You: I am depressed\n",
      "ELIZA: Why do you think you are depressed\n",
      "You: bye\n",
      "ELIZA: Goodbye, I hope I was able to assist you.\n"
     ]
    }
   ],
   "source": [
    "import re\n",
    "\n",
    "# Define the substitution patterns\n",
    "substitutions = {\n",
    "    \"I'm (.*)\": \"I am sorry to hear you are \\\\1\",\n",
    "    \"I am (depressed|sad)\": \"Why do you think you are \\\\1\",\n",
    "    \"all\" : \"In what way\",\n",
    "    \"always\" : \"can you think of a specific example\",\n",
    "}\n",
    "\n",
    "# Define a list of common greetings\n",
    "greetings = [\"hi\", \"hello\", \"hey\", \"greetings\"]\n",
    "\n",
    "# Define a list of common farewells\n",
    "farewells = [\"bye\", \"goodbye\", \"see you\", \"talk to you later\"]\n",
    "\n",
    "# Define a function to apply the substitution patterns\n",
    "def apply_substitutions(text):\n",
    "    for pattern, replacement in substitutions.items():        \n",
    "        text = re.sub(pattern, replacement, text, flags=re.IGNORECASE)\n",
    "    return text\n",
    "\n",
    "# Define the main program loop\n",
    "def run_eliza():\n",
    "    print(\"ELIZA: Hello, How can I help you today?\")\n",
    "    while True:\n",
    "        user_input = input(\"You: \")\n",
    "        if user_input in greetings:\n",
    "            print(\"ELIZA: Hello, how can I help you today?\")\n",
    "        elif user_input in farewells:\n",
    "            print(\"ELIZA: Goodbye, I hope I was able to assist you.\")\n",
    "            break\n",
    "        else:\n",
    "            print(\"ELIZA: \" + apply_substitutions(user_input))\n",
    "\n",
    "# Run the program\n",
    "run_eliza()\n"
   ]
  },
  {
   "cell_type": "code",
   "execution_count": null,
   "id": "32321562",
   "metadata": {},
   "outputs": [],
   "source": []
  },
  {
   "cell_type": "code",
   "execution_count": null,
   "id": "a9a4a06e",
   "metadata": {},
   "outputs": [],
   "source": []
  }
 ],
 "metadata": {
  "kernelspec": {
   "display_name": "Python 3 (ipykernel)",
   "language": "python",
   "name": "python3"
  },
  "language_info": {
   "codemirror_mode": {
    "name": "ipython",
    "version": 3
   },
   "file_extension": ".py",
   "mimetype": "text/x-python",
   "name": "python",
   "nbconvert_exporter": "python",
   "pygments_lexer": "ipython3",
   "version": "3.7.13"
  }
 },
 "nbformat": 4,
 "nbformat_minor": 5
}
