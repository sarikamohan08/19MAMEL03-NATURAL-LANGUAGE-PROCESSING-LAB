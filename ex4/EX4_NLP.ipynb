{
 "cells": [
  {
   "cell_type": "code",
   "execution_count": 4,
   "metadata": {
    "id": "d8rsYn2FMJxg"
   },
   "outputs": [],
   "source": [
    "import re"
   ]
  },
  {
   "cell_type": "code",
   "execution_count": 5,
   "metadata": {
    "id": "f6qg4eZvNK1t"
   },
   "outputs": [],
   "source": [
    "txt = \"What funny, I signed up thinking free, but then you spring the 14 day trial. You wasted 30 mins of my time today?\""
   ]
  },
  {
   "cell_type": "code",
   "execution_count": 6,
   "metadata": {},
   "outputs": [
    {
     "data": {
      "text/plain": [
       "'What funny, I signed up thinking free, but then you spring the 14 day trial. You wasted 30 mins of my time today?'"
      ]
     },
     "execution_count": 6,
     "metadata": {},
     "output_type": "execute_result"
    }
   ],
   "source": [
    "txt"
   ]
  },
  {
   "cell_type": "markdown",
   "metadata": {
    "id": "4Yjdf7uhNuod"
   },
   "source": [
    "Q1"
   ]
  },
  {
   "cell_type": "code",
   "execution_count": 7,
   "metadata": {
    "colab": {
     "base_uri": "https://localhost:8080/"
    },
    "id": "sO_iH4W1NLJx",
    "outputId": "5d4aa72e-3f20-456a-92ab-8bf5b2e691a6"
   },
   "outputs": [
    {
     "name": "stdout",
     "output_type": "stream",
     "text": [
      "['h', 't', 'e', 't', 'h', 'e', 'e', 't', 't', 'h', 'e', 't', 'h', 'e', 't', 't', 'e', 't', 'e', 't']\n"
     ]
    }
   ],
   "source": [
    "x = re.findall(\"[the]\", txt)\n",
    "print(x)"
   ]
  },
  {
   "cell_type": "markdown",
   "metadata": {
    "id": "WZBqjlVaQoty"
   },
   "source": [
    "Q2"
   ]
  },
  {
   "cell_type": "code",
   "execution_count": 8,
   "metadata": {
    "colab": {
     "base_uri": "https://localhost:8080/"
    },
    "id": "q21ne9N0QgEo",
    "outputId": "6cb48876-b0ee-4d82-d4ec-cd7ff8a07602"
   },
   "outputs": [
    {
     "name": "stdout",
     "output_type": "stream",
     "text": [
      "['h', 'a', 'f', 'n', 'n', 's', 'i', 'g', 'n', 'e', 'd', 'p', 'h', 'i', 'n', 'k', 'i', 'n', 'g', 'f', 'r', 'e', 'e', 'b', 'h', 'e', 'n', 'o', 's', 'p', 'r', 'i', 'n', 'g', 'h', 'e', 'd', 'a', 'r', 'i', 'a', 'l', 'o', 'a', 's', 'e', 'd', 'm', 'i', 'n', 's', 'o', 'f', 'm', 'i', 'm', 'e', 'o', 'd', 'a']\n"
     ]
    }
   ],
   "source": [
    "x = re.findall(\"[a-s]\", txt)\n",
    "print(x)"
   ]
  },
  {
   "cell_type": "markdown",
   "metadata": {
    "id": "MFseXFH2NwSq"
   },
   "source": [
    "Q3"
   ]
  },
  {
   "cell_type": "code",
   "execution_count": 9,
   "metadata": {
    "colab": {
     "base_uri": "https://localhost:8080/"
    },
    "id": "9xu_gKYjNLUA",
    "outputId": "2a6fe9b4-0f6c-45ff-b09b-ac30d971b21c"
   },
   "outputs": [
    {
     "name": "stdout",
     "output_type": "stream",
     "text": [
      "No match\n"
     ]
    }
   ],
   "source": [
    "x = re.findall(\"^what\", txt)\n",
    "if x:\n",
    "  print(\"Yes, the string starts with 'What'\")\n",
    "else:\n",
    "  print(\"No match\")\n"
   ]
  },
  {
   "cell_type": "code",
   "execution_count": 10,
   "metadata": {
    "colab": {
     "base_uri": "https://localhost:8080/"
    },
    "id": "OIOu10Z2NLcs",
    "outputId": "7816bf81-0dae-428a-b596-e3244bc25864"
   },
   "outputs": [
    {
     "name": "stdout",
     "output_type": "stream",
     "text": [
      "Yes, the string starts with 'What'\n"
     ]
    }
   ],
   "source": [
    "x = re.findall(\"^What\", txt)\n",
    "if x:\n",
    "  print(\"Yes, the string starts with 'What'\")\n",
    "else:\n",
    "  print(\"No match\")\n"
   ]
  },
  {
   "cell_type": "markdown",
   "metadata": {
    "id": "PjQTnXMKOOsT"
   },
   "source": [
    "Q4"
   ]
  },
  {
   "cell_type": "code",
   "execution_count": 14,
   "metadata": {
    "colab": {
     "base_uri": "https://localhost:8080/"
    },
    "id": "LVDSlWuxOHdc",
    "outputId": "d82179ae-8148-40d6-94a0-2b6d4937673e"
   },
   "outputs": [
    {
     "name": "stdout",
     "output_type": "stream",
     "text": [
      "['signed']\n"
     ]
    }
   ],
   "source": [
    "x = re.findall(\"sig.?ned\", txt)\n",
    "\n",
    "print(x)"
   ]
  },
  {
   "cell_type": "markdown",
   "metadata": {
    "id": "UTOi6JHwOf-Q"
   },
   "source": [
    "Q5\n"
   ]
  },
  {
   "cell_type": "code",
   "execution_count": 15,
   "metadata": {
    "colab": {
     "base_uri": "https://localhost:8080/"
    },
    "id": "bTYTMql4Ogw-",
    "outputId": "47b9f898-417c-4bc8-e500-523616872573"
   },
   "outputs": [
    {
     "name": "stdout",
     "output_type": "stream",
     "text": [
      "['trial']\n",
      "Yes, there is at least one match!\n"
     ]
    }
   ],
   "source": [
    "x = re.findall(\"trial|traiel\", txt)\n",
    "\n",
    "print(x)\n",
    "\n",
    "if x:\n",
    "  print(\"Yes, there is at least one match!\")\n",
    "else:\n",
    "  print(\"No match\")"
   ]
  },
  {
   "cell_type": "markdown",
   "metadata": {
    "id": "SeepRhNcPe5L"
   },
   "source": [
    "Q6"
   ]
  },
  {
   "cell_type": "code",
   "execution_count": 17,
   "metadata": {
    "colab": {
     "base_uri": "https://localhost:8080/"
    },
    "id": "C63HTM7MPfSF",
    "outputId": "6aef7d61-6bfa-4dd0-b899-4c5f9e3c9c32"
   },
   "outputs": [
    {
     "name": "stdout",
     "output_type": "stream",
     "text": [
      "['thin', 'then']\n"
     ]
    }
   ],
   "source": [
    "rex = re.compile('th.n')\n",
    "\n",
    "print( rex.findall(txt))"
   ]
  },
  {
   "cell_type": "markdown",
   "metadata": {
    "id": "urytU2yiQ8cQ"
   },
   "source": [
    "Q7"
   ]
  },
  {
   "cell_type": "code",
   "execution_count": 19,
   "metadata": {
    "colab": {
     "base_uri": "https://localhost:8080/"
    },
    "id": "1bs4S53kQ92Q",
    "outputId": "215f1825-b6e1-4060-c83a-ec87a1d2cd17"
   },
   "outputs": [
    {
     "name": "stdout",
     "output_type": "stream",
     "text": [
      "<re.Match object; span=(48, 51), match='you'>\n"
     ]
    }
   ],
   "source": [
    "x = re.search(\"you\", txt)\n",
    "\n",
    "print(x)"
   ]
  },
  {
   "cell_type": "markdown",
   "metadata": {
    "id": "dFB-ISEMQ7Ja"
   },
   "source": [
    "Q8"
   ]
  },
  {
   "cell_type": "code",
   "execution_count": 20,
   "metadata": {
    "colab": {
     "base_uri": "https://localhost:8080/"
    },
    "id": "mMQqK1TgPrbg",
    "outputId": "422cc6df-4171-4f87-b886-48b5ab668ca1"
   },
   "outputs": [
    {
     "name": "stdout",
     "output_type": "stream",
     "text": [
      "The first white-space character is located in position: 4\n"
     ]
    }
   ],
   "source": [
    "x = re.search(\"\\s\", txt)\n",
    "\n",
    "print(\"The first white-space character is located in position:\", x.start()) \n"
   ]
  },
  {
   "cell_type": "markdown",
   "metadata": {
    "id": "9_QR0gU-RyX5"
   },
   "source": [
    "Q9"
   ]
  },
  {
   "cell_type": "code",
   "execution_count": 21,
   "metadata": {
    "colab": {
     "base_uri": "https://localhost:8080/"
    },
    "id": "HsD4XyQJRzEu",
    "outputId": "543fdae9-eaf5-4013-e126-3272dd06b118"
   },
   "outputs": [
    {
     "name": "stdout",
     "output_type": "stream",
     "text": [
      "['h', 'a', 't', 't', 'h', 't', 't', 'h', 't', 'h', 'a', 't', 'a', 'w', 'a', 't', 't', 't', 'a']\n"
     ]
    }
   ],
   "source": [
    "x = re.findall(\"[what]\", txt)\n",
    "print(x)"
   ]
  },
  {
   "cell_type": "markdown",
   "metadata": {
    "id": "2EOntrgmSMSn"
   },
   "source": [
    "Q10"
   ]
  },
  {
   "cell_type": "code",
   "execution_count": 22,
   "metadata": {
    "colab": {
     "base_uri": "https://localhost:8080/"
    },
    "id": "L3UPW9M4SL9D",
    "outputId": "ccde0822-16bf-46fc-cf2b-217632c8aa67"
   },
   "outputs": [
    {
     "name": "stdout",
     "output_type": "stream",
     "text": [
      "['What', 'funny,', 'I', 'signed', 'up', 'thinking', 'free,', 'but', 'then', 'you', 'spring', 'the', '14', 'day', 'trial.', 'You', 'wasted', '30', 'mins', 'of', 'my', 'time', 'today?']\n"
     ]
    }
   ],
   "source": [
    "x = re.split(\"\\s\", txt)\n",
    "print(x)"
   ]
  },
  {
   "cell_type": "markdown",
   "metadata": {
    "id": "zoZVotVsSWx4"
   },
   "source": [
    "Q11"
   ]
  },
  {
   "cell_type": "code",
   "execution_count": 28,
   "metadata": {
    "colab": {
     "base_uri": "https://localhost:8080/"
    },
    "id": "FQgct_TbSXMs",
    "outputId": "c323bad0-2c6b-40bc-be53-bb11a9495e05"
   },
   "outputs": [
    {
     "ename": "AttributeError",
     "evalue": "'NoneType' object has no attribute 'span'",
     "output_type": "error",
     "traceback": [
      "\u001b[1;31m---------------------------------------------------------------------------\u001b[0m",
      "\u001b[1;31mAttributeError\u001b[0m                            Traceback (most recent call last)",
      "\u001b[1;32m~\\AppData\\Local\\Temp\\ipykernel_15832\\2949452084.py\u001b[0m in \u001b[0;36m<module>\u001b[1;34m\u001b[0m\n\u001b[0;32m      1\u001b[0m \u001b[0mx\u001b[0m \u001b[1;33m=\u001b[0m \u001b[0mre\u001b[0m\u001b[1;33m.\u001b[0m\u001b[0msearch\u001b[0m\u001b[1;33m(\u001b[0m\u001b[1;34mr\"\\br\\f\"\u001b[0m\u001b[1;33m,\u001b[0m \u001b[0mtxt\u001b[0m\u001b[1;33m)\u001b[0m\u001b[1;33m\u001b[0m\u001b[1;33m\u001b[0m\u001b[0m\n\u001b[1;32m----> 2\u001b[1;33m \u001b[0mprint\u001b[0m\u001b[1;33m(\u001b[0m\u001b[0mx\u001b[0m\u001b[1;33m.\u001b[0m\u001b[0mspan\u001b[0m\u001b[1;33m(\u001b[0m\u001b[1;33m)\u001b[0m\u001b[1;33m)\u001b[0m\u001b[1;33m\u001b[0m\u001b[1;33m\u001b[0m\u001b[0m\n\u001b[0m",
      "\u001b[1;31mAttributeError\u001b[0m: 'NoneType' object has no attribute 'span'"
     ]
    }
   ],
   "source": [
    "x = re.search(r\"\\br\\f\", txt)\n",
    "print(x.span())"
   ]
  },
  {
   "cell_type": "code",
   "execution_count": 24,
   "metadata": {
    "colab": {
     "base_uri": "https://localhost:8080/"
    },
    "id": "nuOYlPq7TPgb",
    "outputId": "98c8209d-c33e-443b-977b-852ef01849ff"
   },
   "outputs": [
    {
     "ename": "AttributeError",
     "evalue": "'NoneType' object has no attribute 'group'",
     "output_type": "error",
     "traceback": [
      "\u001b[1;31m---------------------------------------------------------------------------\u001b[0m",
      "\u001b[1;31mAttributeError\u001b[0m                            Traceback (most recent call last)",
      "\u001b[1;32m~\\AppData\\Local\\Temp\\ipykernel_15832\\4101203662.py\u001b[0m in \u001b[0;36m<module>\u001b[1;34m\u001b[0m\n\u001b[0;32m      1\u001b[0m \u001b[0mx\u001b[0m \u001b[1;33m=\u001b[0m \u001b[0mre\u001b[0m\u001b[1;33m.\u001b[0m\u001b[0msearch\u001b[0m\u001b[1;33m(\u001b[0m\u001b[1;34mr\"\\br\\w+\"\u001b[0m\u001b[1;33m,\u001b[0m \u001b[0mtxt\u001b[0m\u001b[1;33m)\u001b[0m\u001b[1;33m\u001b[0m\u001b[1;33m\u001b[0m\u001b[0m\n\u001b[1;32m----> 2\u001b[1;33m \u001b[0mprint\u001b[0m\u001b[1;33m(\u001b[0m\u001b[0mx\u001b[0m\u001b[1;33m.\u001b[0m\u001b[0mgroup\u001b[0m\u001b[1;33m(\u001b[0m\u001b[1;33m)\u001b[0m\u001b[1;33m)\u001b[0m\u001b[1;33m\u001b[0m\u001b[1;33m\u001b[0m\u001b[0m\n\u001b[0m",
      "\u001b[1;31mAttributeError\u001b[0m: 'NoneType' object has no attribute 'group'"
     ]
    }
   ],
   "source": [
    "x = re.search(r\"\\br\\w+\", txt)\n",
    "print(x.group())"
   ]
  },
  {
   "cell_type": "code",
   "execution_count": 16,
   "metadata": {
    "colab": {
     "base_uri": "https://localhost:8080/"
    },
    "id": "1n7nyToZUFB3",
    "outputId": "4f374e09-2e86-4a9f-f58e-397547038032"
   },
   "outputs": [
    {
     "name": "stdout",
     "output_type": "stream",
     "text": [
      "What are robots? why are they useful. Are robots boon to the society or they ?\n"
     ]
    }
   ],
   "source": [
    "x = re.search(r\"\\br\\w+\", txt)\n",
    "print(x.string)"
   ]
  },
  {
   "cell_type": "code",
   "execution_count": null,
   "metadata": {},
   "outputs": [],
   "source": []
  },
  {
   "cell_type": "code",
   "execution_count": null,
   "metadata": {},
   "outputs": [],
   "source": []
  }
 ],
 "metadata": {
  "colab": {
   "provenance": []
  },
  "kernelspec": {
   "display_name": "Python 3 (ipykernel)",
   "language": "python",
   "name": "python3"
  },
  "language_info": {
   "codemirror_mode": {
    "name": "ipython",
    "version": 3
   },
   "file_extension": ".py",
   "mimetype": "text/x-python",
   "name": "python",
   "nbconvert_exporter": "python",
   "pygments_lexer": "ipython3",
   "version": "3.7.13"
  }
 },
 "nbformat": 4,
 "nbformat_minor": 1
}
