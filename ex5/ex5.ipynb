{
 "cells": [
  {
   "cell_type": "code",
   "execution_count": 1,
   "id": "bf506d8d",
   "metadata": {},
   "outputs": [],
   "source": [
    "import re\n",
    " \n",
    "def isValid(s):\n",
    "     \n",
    "    # 1) Begins with 0 or 91\n",
    "    # 2) Then contains 6,7 or 8 or 9.\n",
    "    # 3) Then contains 9 digits\n",
    "    Pattern = re.compile(\"(0|9|7|6)?[6-9][0-9]{9}\")\n",
    "    return Pattern.match(s)"
   ]
  },
  {
   "cell_type": "code",
   "execution_count": 2,
   "id": "46c443d3",
   "metadata": {},
   "outputs": [
    {
     "name": "stdout",
     "output_type": "stream",
     "text": [
      "7896543265\n",
      "Valid Number\n"
     ]
    }
   ],
   "source": [
    "s =input()\n",
    "if (isValid(s)):\n",
    "    print (\"Valid Number\")    \n",
    "else :\n",
    "    print (\"Invalid Number\")"
   ]
  },
  {
   "cell_type": "code",
   "execution_count": null,
   "id": "0aa2b940",
   "metadata": {},
   "outputs": [],
   "source": []
  }
 ],
 "metadata": {
  "kernelspec": {
   "display_name": "Python 3 (ipykernel)",
   "language": "python",
   "name": "python3"
  },
  "language_info": {
   "codemirror_mode": {
    "name": "ipython",
    "version": 3
   },
   "file_extension": ".py",
   "mimetype": "text/x-python",
   "name": "python",
   "nbconvert_exporter": "python",
   "pygments_lexer": "ipython3",
   "version": "3.7.13"
  }
 },
 "nbformat": 4,
 "nbformat_minor": 5
}
